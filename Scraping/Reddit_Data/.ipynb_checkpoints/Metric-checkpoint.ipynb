{
 "cells": [
  {
   "cell_type": "code",
   "execution_count": 2,
   "metadata": {},
   "outputs": [
    {
     "name": "stdout",
     "output_type": "stream",
     "text": [
      "read the data\n",
      "done appending\n"
     ]
    }
   ],
   "source": [
    "import pandas as pd\n",
    "\n",
    "df = pd.read_csv(\"game_titles.csv\", error_bad_lines=False)\n",
    "new_df_1 = pd.read_csv(\"game_titles_1.csv\", error_bad_lines=False)\n",
    "new_df_2 = pd.read_csv(\"game_titles_2.csv\", error_bad_lines=False)\n",
    "new_df_3 = pd.read_csv(\"game_titles_3.csv\", error_bad_lines=False)\n",
    "new_df_4 = pd.read_csv(\"game_titles_4.csv\", error_bad_lines=False)\n",
    "\n",
    "print(\"read the data\")\n",
    "\n",
    "pd.concat([df, new_df_1, new_df_2, new_df_3, new_df_4], axis=0, sort=0).to_csv('game_titles.csv', index=False)\n",
    "\n",
    "print(\"done appending\")"
   ]
  },
  {
   "cell_type": "code",
   "execution_count": 22,
   "metadata": {},
   "outputs": [],
   "source": [
    "from sklearn import preprocessing\n",
    "\n",
    "df = pd.read_csv(\"game_titles.csv\", error_bad_lines=False)\n",
    "\n",
    "x = df[['score']].values.astype(float)\n",
    "\n",
    "# Create a minimum and maximum processor object\n",
    "min_max_scaler = preprocessing.MinMaxScaler()\n",
    "\n",
    "# Create an object to transform the data to fit minmax processor\n",
    "x_scaled = min_max_scaler.fit_transform(x)\n",
    "\n",
    "# Run the normalizer on the dataframe\n",
    "df_normalized = pd.DataFrame(x_scaled, columns=['score'])\n",
    "df_normalized = pd.concat([df.iloc[:,0], df_normalized], axis=1)"
   ]
  },
  {
   "cell_type": "code",
   "execution_count": 24,
   "metadata": {},
   "outputs": [
    {
     "name": "stdout",
     "output_type": "stream",
     "text": [
      "                                             game_title     score\n",
      "2434                                           R.U.S.E.  1.000000\n",
      "4976                                           Capsized  0.879210\n",
      "1244                                 Shape of the World  0.662442\n",
      "3196                                        RayStorm HD  0.602989\n",
      "4380                                       Arrow Time U  0.563301\n",
      "2157                           The LEGO Movie Videogame  0.555499\n",
      "780                            The Lego Movie Videogame  0.555480\n",
      "5151                                            Frogger  0.546582\n",
      "5644                                          Too Human  0.544855\n",
      "3943                                A Normal Lost Phone  0.528475\n",
      "5852                                               Coma  0.505196\n",
      "743                         Knowledge is Power: Decades  0.479443\n",
      "3788                              Jumping Joe & Friends  0.460211\n",
      "149                                Battlefield Hardline  0.453709\n",
      "5210                                Hitman: Blood Money  0.440522\n",
      "643                                   Horizon Zero Dawn  0.434176\n",
      "3498                                        Bleep Bloop  0.409548\n",
      "578                                     Grab the Bottle  0.407122\n",
      "4191                        Stranger Things 3: The Game  0.389666\n",
      "3407                                      Access Denied  0.363253\n",
      "3061                                               Juju  0.361700\n",
      "5473                                            Quarrel  0.361254\n",
      "4015                                     Platinum Train  0.352200\n",
      "5064                                            Dig Dug  0.341332\n",
      "3383                                  Zombie Apocalypse  0.340401\n",
      "4111                                          Semblance  0.336548\n",
      "584                                               Grave  0.334976\n",
      "521                                      Flipping Death  0.331920\n",
      "1576                                Winning Post 8 2016  0.304439\n",
      "4661                                          Paparazzi  0.302334\n",
      "...                                                 ...       ...\n",
      "3514         Brave Dungeon + Dark Witch's Story: Combat  0.000000\n",
      "5274     King's Quest - Chapter I: A Knight to Remember  0.000000\n",
      "5270                       Kinectimals: Now with Bears!  0.000000\n",
      "5267                       Kinect Sports Gems: Ski Race  0.000000\n",
      "5266                 Kinect Sports Gems: Reaction Rally  0.000000\n",
      "5265                   Kinect Sports Gems: Prize Driver  0.000000\n",
      "5264                      Kinect Sports Gems: Ping Pong  0.000000\n",
      "5263                  Kinect Sports Gems: Penalty Saver  0.000000\n",
      "5262             Kinect Sports Gems: Field Goal Contest  0.000000\n",
      "3504                                             Bokube  0.000000\n",
      "1798          Champion Jockey: G1 Jockey & Gallop Racer  0.000000\n",
      "1801      Clannad: Tomoyo After – It's a Wonderful Life  0.000000\n",
      "1823                              CSI: Fatal Conspiracy  0.000000\n",
      "5345                                  MIB: Alien Crisis  0.000000\n",
      "1826  Daito Giken Koushiki Pachi-Slot Sumulator Hiho...  0.000000\n",
      "3454                              Atomik: RunGunJumpGun  0.000000\n",
      "3458  Ayakashi Koi Gikyoku: Forbidden Romance with M...  0.000000\n",
      "5331                Marlow Briggs and the Mask of Death  0.000000\n",
      "5328                      Man Vs. Wild With Bear Grylls  0.000000\n",
      "5327                 Mamoru-kun wa Norowarete Shimatta!  0.000000\n",
      "5312                         Looney Tunes: Acme Arsenal  0.000000\n",
      "3493                           Blacksad: Under the Skin  0.000000\n",
      "3474                                          Battlloon  0.000000\n",
      "1814                             Condemned 2: Bloodshot  0.000000\n",
      "1811            Combat Wings: The Great Battles of WWII  0.000000\n",
      "5305                             Lips: Canta en Español  0.000000\n",
      "690                                 Iron Harvest: 1920+  0.000000\n",
      "1809                                  College Hoops 2K7  0.000000\n",
      "3487                        Birushanah Senki: Genpeiden  0.000000\n",
      "4370             Angry Bunnies: Colossal Carrot Crusade  0.000000\n",
      "\n",
      "[6418 rows x 2 columns]\n"
     ]
    }
   ],
   "source": [
    "df_normalized.sort_values(['score'], ascending=[False]).to_csv('game_titles_normal.csv', index=False)"
   ]
  },
  {
   "cell_type": "code",
   "execution_count": null,
   "metadata": {},
   "outputs": [],
   "source": []
  }
 ],
 "metadata": {
  "kernelspec": {
   "display_name": "Python 3",
   "language": "python",
   "name": "python3"
  },
  "language_info": {
   "codemirror_mode": {
    "name": "ipython",
    "version": 3
   },
   "file_extension": ".py",
   "mimetype": "text/x-python",
   "name": "python",
   "nbconvert_exporter": "python",
   "pygments_lexer": "ipython3",
   "version": "3.7.1"
  }
 },
 "nbformat": 4,
 "nbformat_minor": 2
}
