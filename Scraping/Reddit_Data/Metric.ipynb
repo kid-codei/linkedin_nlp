{
 "cells": [
  {
   "cell_type": "code",
   "execution_count": 2,
   "metadata": {},
   "outputs": [
    {
     "name": "stdout",
     "output_type": "stream",
     "text": [
      "read the data\n",
      "done appending\n"
     ]
    }
   ],
   "source": [
    "import pandas as pd\n",
    "\n",
    "df = pd.read_csv(\"game_titles.csv\", error_bad_lines=False)\n",
    "new_df_1 = pd.read_csv(\"game_titles_1.csv\", error_bad_lines=False)\n",
    "new_df_2 = pd.read_csv(\"game_titles_2.csv\", error_bad_lines=False)\n",
    "new_df_3 = pd.read_csv(\"game_titles_3.csv\", error_bad_lines=False)\n",
    "new_df_4 = pd.read_csv(\"game_titles_4.csv\", error_bad_lines=False)\n",
    "\n",
    "print(\"read the data\")\n",
    "\n",
    "pd.concat([df, new_df_1, new_df_2, new_df_3, new_df_4], axis=0, sort=0).to_csv('game_titles.csv', index=False)\n",
    "\n",
    "print(\"done appending\")"
   ]
  },
  {
   "cell_type": "code",
   "execution_count": 22,
   "metadata": {},
   "outputs": [],
   "source": [
    "from sklearn import preprocessing\n",
    "\n",
    "df = pd.read_csv(\"game_titles.csv\", error_bad_lines=False)\n",
    "\n",
    "x = df[['score']].values.astype(float)\n",
    "\n",
    "# Create a minimum and maximum processor object\n",
    "min_max_scaler = preprocessing.MinMaxScaler()\n",
    "\n",
    "# Create an object to transform the data to fit minmax processor\n",
    "x_scaled = min_max_scaler.fit_transform(x)\n",
    "\n",
    "# Run the normalizer on the dataframe\n",
    "df_normalized = pd.DataFrame(x_scaled, columns=['score'])\n",
    "df_normalized = pd.concat([df.iloc[:,0], df_normalized], axis=1)"
   ]
  },
  {
   "cell_type": "code",
   "execution_count": 25,
   "metadata": {},
   "outputs": [],
   "source": [
    "df_normalized.sort_values(['score'], ascending=[False]).to_csv('game_titles_normal.csv', index=False)"
   ]
  },
  {
   "cell_type": "code",
   "execution_count": null,
   "metadata": {},
   "outputs": [],
   "source": []
  }
 ],
 "metadata": {
  "kernelspec": {
   "display_name": "Python 3",
   "language": "python",
   "name": "python3"
  },
  "language_info": {
   "codemirror_mode": {
    "name": "ipython",
    "version": 3
   },
   "file_extension": ".py",
   "mimetype": "text/x-python",
   "name": "python",
   "nbconvert_exporter": "python",
   "pygments_lexer": "ipython3",
   "version": "3.7.1"
  }
 },
 "nbformat": 4,
 "nbformat_minor": 2
}
