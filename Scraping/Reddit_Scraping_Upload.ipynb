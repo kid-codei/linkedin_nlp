{
 "cells": [
  {
   "cell_type": "code",
   "execution_count": 11,
   "metadata": {},
   "outputs": [],
   "source": [
    "# in reference to:\n",
    "# https://towardsdatascience.com/scraping-reddit-with-praw-76efc1d1e1d9\n",
    "# https://praw.readthedocs.io/en/latest/code_overview/praw_models.html\n",
    "# https://www.reddit.com/wiki/search\n",
    "\n",
    "from os.path import isfile\n",
    "import praw\n",
    "import pandas as pd\n",
    "from time import sleep\n"
   ]
  },
  {
   "cell_type": "code",
   "execution_count": 33,
   "metadata": {},
   "outputs": [],
   "source": [
    "from os.path import isfile\n",
    "import praw\n",
    "import pandas as pd\n",
    "from time import sleep\n",
    "\n",
    "# Get credentials from DEFAULT instance in praw.ini\n",
    "# Use your own tokens\n",
    "reddit = praw.Reddit(\n",
    "    client_id=\"tpkjzcHMAynTvw\",\n",
    "    client_secret=\"WdtCdrgnWMfZphmCgkl_fVFH-uA\",\n",
    "    user_agent=\"scraper\",\n",
    "    username=\"Whatchamacalit1\",\n",
    "    password=\"Tango9802!\"\n",
    ")\n",
    "\n",
    "\n",
    "class SubredditScraper:\n",
    "\n",
    "    def __init__(self, query, sort='new', lim=900, mode='w'):\n",
    "        self.query = query\n",
    "        self.sort = sort\n",
    "        self.lim = lim\n",
    "        self.mode = mode\n",
    "        \n",
    "        if not isinstance(query, str):\n",
    "            try:\n",
    "                self.query = self.query.replace(\" \", \"%20\")\n",
    "            except AttributeError:\n",
    "                raise\n",
    "\n",
    "        print(\n",
    "            f'SubredditScraper instance created with values '\n",
    "            f'query = {query}, sort = {sort}, lim = {lim}, mode = {mode}')\n",
    "\n",
    "    def set_sort(self):\n",
    "        if self.sort == 'new':\n",
    "            return self.sort, reddit.subreddit('all').search(self.query, sort='new', time_filter='month')\n",
    "        elif self.sort == 'top':\n",
    "            return self.sort, reddit.subreddit('all').search(self.query, sort='top', time_filter='month')\n",
    "        elif self.sort == 'hot':\n",
    "            return self.sort, reddit.subreddit('all').search(self.query, sort='hot', time_filter='month')\n",
    "        else:\n",
    "            self.sort = 'relevance'\n",
    "            print('Sort method was not recognized, defaulting to relevance.')\n",
    "            return self.sort, reddit.subreddit('all').search(self.query, time_filter='month')\n",
    "\n",
    "    def get_posts(self, printer=False):\n",
    "\n",
    "        sub_dict = {\n",
    "            'game_title': [], 'selftext': [], 'title': [], 'id': [], 'sorted_by': [],\n",
    "            'num_comments': [], 'score': [], 'ups': [], 'downs': []}\n",
    "        csv = f'game_titles.csv'\n",
    "\n",
    "        # Attempt to specify a sorting method.\n",
    "        sort, subreddit = self.set_sort()\n",
    "\n",
    "        # Set csv_loaded to True if csv exists since you can't evaluate the\n",
    "        # truth value of a DataFrame.\n",
    "        df, csv_loaded = (pd.read_csv(csv), 1) if isfile(csv) else ('', 0)\n",
    "\n",
    "        print(f'csv = {csv}')\n",
    "        print(f'After set_sort(), sort = {sort} and query = {self.query}')\n",
    "        print(f'csv_loaded = {csv_loaded}')\n",
    "\n",
    "        print(f'Collecting information from r/all for search term \"{self.query}\".')\n",
    "        for post in subreddit:\n",
    "\n",
    "            # Check if post.id is in df and set to True if df is empty.\n",
    "            # This way new posts are still added to dictionary when df = ''\n",
    "            unique_id = post.id not in tuple(df.id) if csv_loaded else True\n",
    "\n",
    "            # Save any unique, non-stickied posts with descriptions to sub_dict.\n",
    "            if unique_id:\n",
    "                sub_dict['game_title'].append(self.query)\n",
    "                sub_dict['selftext'].append(post.selftext)\n",
    "                sub_dict['title'].append(post.title)\n",
    "                sub_dict['id'].append(post.id)\n",
    "                sub_dict['sorted_by'].append(sort)\n",
    "                sub_dict['num_comments'].append(post.num_comments)\n",
    "                sub_dict['score'].append(post.score)\n",
    "                sub_dict['ups'].append(post.ups)\n",
    "                sub_dict['downs'].append(post.downs)\n",
    "            sleep(0.1)\n",
    "\n",
    "        # pprint(sub_dict)\n",
    "        new_df = pd.DataFrame(sub_dict)\n",
    "        \n",
    "        # decide whether or no to print\n",
    "        if printer is True:\n",
    "            print(\n",
    "                f'{len(new_df)} posts were collected but they were not '\n",
    "                f'added to {csv} because mode was set to \"{self.mode}\"')\n",
    "            return\n",
    "\n",
    "        # Add new_df to df if df exists then save it to a csv.\n",
    "        if 'DataFrame' in str(type(df)) and self.mode == 'w':\n",
    "            pd.concat([df, new_df], axis=0, sort=0).to_csv(csv, index=False)\n",
    "            print(\n",
    "                f'{len(new_df)} new posts collected and added to {csv}')\n",
    "        elif self.mode == 'w':\n",
    "            new_df.to_csv(csv, index=False)\n",
    "            print(f'{len(new_df)} posts collected and saved to {csv}')\n",
    "        else:\n",
    "            print(\n",
    "                f'{len(new_df)} posts were collected but they were not '\n",
    "                f'added to {csv} because mode was set to \"{self.mode}\"')\n",
    "\n"
   ]
  },
  {
   "cell_type": "code",
   "execution_count": 13,
   "metadata": {},
   "outputs": [
    {
     "name": "stdout",
     "output_type": "stream",
     "text": [
      "SubredditScraper instance created with values query = Over Watch, sort = new, lim = 997, mode = w\n",
      "csv = game_titles.csv\n",
      "After set_sort(), sort = new and query = Over Watch\n",
      "csv_loaded = 1\n",
      "Collecting information from r/all for search term \"Over Watch\".\n",
      "0 new posts collected and added to game_titles.csv\n"
     ]
    }
   ],
   "source": [
    "if __name__ == '__main__':\n",
    "    #SubredditScraper('statistics', lim=997, mode='w', sort='new').get_posts()\n",
    "    SubredditScraper('Over Watch', lim=997, sort='new').get_posts()"
   ]
  },
  {
   "cell_type": "code",
   "execution_count": 35,
   "metadata": {},
   "outputs": [],
   "source": [
    "import unittest\n",
    "import os\n",
    "\n",
    "class TestRedditMethods(unittest.TestCase):\n",
    "\n",
    "    def test_bad_input(self):\n",
    "        self.assertRaises(AttributeError, SubredditScraper, query=123, lim=997, sort='new')\n",
    "        \n",
    "    def test_good_input(self):\n",
    "        SubredditScraper('Over Watch', lim=997, sort='new').get_posts()\n",
    "        self.assertTrue(os.path.isfile('./game_titles.csv'))\n",
    " "
   ]
  },
  {
   "cell_type": "code",
   "execution_count": 36,
   "metadata": {},
   "outputs": [
    {
     "name": "stderr",
     "output_type": "stream",
     "text": [
      "."
     ]
    },
    {
     "name": "stdout",
     "output_type": "stream",
     "text": [
      "SubredditScraper instance created with values query = Over Watch, sort = new, lim = 997, mode = w\n",
      "csv = game_titles.csv\n",
      "After set_sort(), sort = new and query = Over Watch\n",
      "csv_loaded = 1\n",
      "Collecting information from r/all for search term \"Over Watch\".\n"
     ]
    },
    {
     "name": "stderr",
     "output_type": "stream",
     "text": [
      "."
     ]
    },
    {
     "name": "stdout",
     "output_type": "stream",
     "text": [
      "3 new posts collected and added to game_titles.csv\n"
     ]
    },
    {
     "name": "stderr",
     "output_type": "stream",
     "text": [
      "\n",
      "----------------------------------------------------------------------\n",
      "Ran 2 tests in 12.763s\n",
      "\n",
      "OK\n"
     ]
    }
   ],
   "source": [
    "if __name__ == '__main__':\n",
    "    unittest.main(argv=['first-arg-is-ignored'], exit=False)"
   ]
  }
 ],
 "metadata": {
  "kernelspec": {
   "display_name": "Python 3",
   "language": "python",
   "name": "python3"
  },
  "language_info": {
   "codemirror_mode": {
    "name": "ipython",
    "version": 3
   },
   "file_extension": ".py",
   "mimetype": "text/x-python",
   "name": "python",
   "nbconvert_exporter": "python",
   "pygments_lexer": "ipython3",
   "version": "3.7.1"
  }
 },
 "nbformat": 4,
 "nbformat_minor": 2
}
