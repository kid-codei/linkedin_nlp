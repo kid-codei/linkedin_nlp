{
 "cells": [
  {
   "cell_type": "code",
   "execution_count": 1,
   "metadata": {},
   "outputs": [],
   "source": [
    "import twitter\n",
    "from os.path import isfile\n",
    "import pandas as pd\n",
    "from time import sleep"
   ]
  },
  {
   "cell_type": "code",
   "execution_count": 2,
   "metadata": {},
   "outputs": [],
   "source": [
    "api = twitter.Api(consumer_key='foYe2yl6efwHz9kJQiyI7vuSp',\n",
    "                  consumer_secret=\"fITQUjsbsC938lb5VQpzFaCuW6d3LXhC5e34AkCtL5xkIvj1BD\",\n",
    "                  access_token_key='1110034001052471298-Bo7P9PV9bTlzIfxDT00DvW2TB4PsB8',\n",
    "                  access_token_secret='JXh4LO37BLVqyiAhrXvwlh8riHe9EhTEnpqtAbXejz1WR')\n",
    "api.InitializeRateLimit()"
   ]
  },
  {
   "cell_type": "code",
   "execution_count": 8,
   "metadata": {},
   "outputs": [],
   "source": [
    "def twitter_search(title):\n",
    "    ratelim = twitter.ratelimit.RateLimit()\n",
    "    remaining = ratelim.get_limit(\"https://api.twitter.com/1.1/application/rate_limit_status.json\").remaining\n",
    "    print(f'remaining = {remaining}')\n",
    "\n",
    "    if remaining <= 0:\n",
    "        print(\"failed\")\n",
    "        return\n",
    "    \n",
    "    sub_dict = {'game_title': [], 'post_title': [], 'score': []}\n",
    "    csv = f'game_titles_twitter.csv'\n",
    "\n",
    "    # Set csv_loaded to True if csv exists since you can't evaluate the\n",
    "    # truth value of a DataFrame.\n",
    "    df, csv_loaded = (pd.read_csv(csv), 1) if isfile(csv) else ('', 0)\n",
    "\n",
    "    #print(f'csv = {csv}')\n",
    "    #print(f'csv_loaded = {csv_loaded}')\n",
    "    print(f'Collecting information from Twitter for search term \"{title}\".')\n",
    "    \n",
    "    search = \"q=\" + title.replace(\" \", \"%20\")\n",
    "    #print(search)\n",
    "    feed = api.GetSearch(raw_query=search)\n",
    "    \n",
    "    for post in feed:\n",
    "        if post.retweeted_status is not None:\n",
    "            notDuplicated = post.retweeted_status.text not in sub_dict['post_title']\n",
    "            notCopied = post.retweeted_status.text not in tuple(df.post_title) if csv_loaded else True\n",
    "            if notDuplicated and notCopied:\n",
    "                #print(post.retweeted_status.favorite_count)\n",
    "                # Save any unique, non-stickied posts with descriptions to sub_dict.\n",
    "                sub_dict['game_title'].append(title)\n",
    "                sub_dict['post_title'].append(post.retweeted_status.text)\n",
    "                sub_dict['score'].append(post.retweeted_status.favorite_count)\n",
    "                sleep(0.1)\n",
    "                \n",
    "    sub_dict_final = {'game_title': [title], 'score': [sum(sub_dict['score'])]}\n",
    "\n",
    "    # print(sub_dict)\n",
    "    new_df = pd.DataFrame(sub_dict_final)\n",
    "\n",
    "    # Add new_df to df if df exists then save it to a csv.\n",
    "    if 'DataFrame' in str(type(df)):\n",
    "        pd.concat([df, new_df], axis=0, sort=0).to_csv(csv, index=False)\n",
    "        #print(f'{len(new_df)} new posts collected and added to {csv}')\n",
    "    else:\n",
    "        new_df.to_csv(csv, index=False)\n",
    "        #print(f'{len(new_df)} posts collected and saved to {csv}')"
   ]
  },
  {
   "cell_type": "code",
   "execution_count": 10,
   "metadata": {},
   "outputs": [
    {
     "name": "stdout",
     "output_type": "stream",
     "text": [
      "remaining = 15\n",
      "Collecting information from Twitter for search term \"Overwatch\".\n"
     ]
    }
   ],
   "source": [
    "#twitter_search(\"Overwatch\")"
   ]
  },
  {
   "cell_type": "code",
   "execution_count": 5,
   "metadata": {},
   "outputs": [],
   "source": [
    "#results = api.GetSearch(raw_query=\"q=twitter%20&result_type=recent&since=2014-07-19&count=100\")"
   ]
  },
  {
   "cell_type": "code",
   "execution_count": 6,
   "metadata": {},
   "outputs": [],
   "source": [
    "#result = results[0]\n",
    "#print(result)"
   ]
  },
  {
   "cell_type": "code",
   "execution_count": 7,
   "metadata": {},
   "outputs": [],
   "source": [
    "#ratelim = twitter.ratelimit.RateLimit()\n",
    "#ratelim.get_limit(\"https://api.twitter.com/1.1/application/rate_limit_status.json\")"
   ]
  },
  {
   "cell_type": "code",
   "execution_count": null,
   "metadata": {},
   "outputs": [],
   "source": []
  }
 ],
 "metadata": {
  "kernelspec": {
   "display_name": "Python 3",
   "language": "python",
   "name": "python3"
  },
  "language_info": {
   "codemirror_mode": {
    "name": "ipython",
    "version": 3
   },
   "file_extension": ".py",
   "mimetype": "text/x-python",
   "name": "python",
   "nbconvert_exporter": "python",
   "pygments_lexer": "ipython3",
   "version": "3.7.1"
  }
 },
 "nbformat": 4,
 "nbformat_minor": 2
}
