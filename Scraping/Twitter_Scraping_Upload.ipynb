{
 "cells": [
  {
   "cell_type": "code",
   "execution_count": 2,
   "metadata": {},
   "outputs": [],
   "source": [
    "import twitter\n",
    "from os.path import isfile\n",
    "import pandas as pd\n",
    "from time import sleep"
   ]
  },
  {
   "cell_type": "code",
   "execution_count": 3,
   "metadata": {},
   "outputs": [],
   "source": [
    "api = twitter.Api(consumer_key='foYe2yl6efwHz9kJQiyI7vuSp',\n",
    "                  consumer_secret=\"fITQUjsbsC938lb5VQpzFaCuW6d3LXhC5e34AkCtL5xkIvj1BD\",\n",
    "                  access_token_key='1110034001052471298-Bo7P9PV9bTlzIfxDT00DvW2TB4PsB8',\n",
    "                  access_token_secret='JXh4LO37BLVqyiAhrXvwlh8riHe9EhTEnpqtAbXejz1WR')\n",
    "api.InitializeRateLimit()"
   ]
  },
  {
   "cell_type": "code",
   "execution_count": 4,
   "metadata": {},
   "outputs": [],
   "source": [
    "def twitter_search(title):    \n",
    "    ratelim = twitter.ratelimit.RateLimit()\n",
    "    remaining = ratelim.get_limit(\"https://api.twitter.com/1.1/application/rate_limit_status.json\").remaining\n",
    "    print(f'remaining = {remaining}')\n",
    "\n",
    "    if remaining <= 0:\n",
    "        print(\"failed\")\n",
    "        return False\n",
    "    \n",
    "    sub_dict = {'game_title': [], 'post_title': [], 'score': []}\n",
    "    csv = f'game_titles_twitter.csv'\n",
    "\n",
    "    # Set csv_loaded to True if csv exists since you can't evaluate the\n",
    "    # truth value of a DataFrame.\n",
    "    df, csv_loaded = (pd.read_csv(csv), 1) if isfile(csv) else ('', 0)\n",
    "\n",
    "    print(f'csv = {csv}')\n",
    "    print(f'csv_loaded = {csv_loaded}')\n",
    "    print(f'Collecting information from Twitter for search term \"{title}\".')\n",
    "    \n",
    "    try:\n",
    "        search = \"q=\" + title.replace(\" \", \"%20\")\n",
    "    except AttributeError:\n",
    "        raise\n",
    "    \n",
    "    print(search)\n",
    "    feed = api.GetSearch(raw_query=search)\n",
    "    \n",
    "    for post in feed:\n",
    "        if post.retweeted_status is not None:\n",
    "            notDuplicated = post.retweeted_status.text not in sub_dict['post_title']\n",
    "            notCopied = post.retweeted_status.text not in tuple(df.post_title) if csv_loaded else True\n",
    "            if notDuplicated and notCopied:\n",
    "                print(post.retweeted_status.favorite_count)\n",
    "                # Save any unique, non-stickied posts with descriptions to sub_dict.\n",
    "                sub_dict['game_title'].append(title)\n",
    "                sub_dict['post_title'].append(post.retweeted_status.text)\n",
    "                sub_dict['score'].append(post.retweeted_status.favorite_count)\n",
    "                sleep(0.1)\n",
    "\n",
    "    # print(sub_dict)\n",
    "    new_df = pd.DataFrame(sub_dict)\n",
    "\n",
    "    # Add new_df to df if df exists then save it to a csv.\n",
    "    if 'DataFrame' in str(type(df)):\n",
    "        pd.concat([df, new_df], axis=0, sort=0).to_csv(csv, index=False)\n",
    "        print(f'{len(new_df)} new posts collected and added to {csv}')\n",
    "    else:\n",
    "        new_df.to_csv(csv, index=False)\n",
    "        print(f'{len(new_df)} posts collected and saved to {csv}')"
   ]
  },
  {
   "cell_type": "code",
   "execution_count": 5,
   "metadata": {},
   "outputs": [
    {
     "name": "stdout",
     "output_type": "stream",
     "text": [
      "remaining = 15\n",
      "csv = game_titles_twitter.csv\n",
      "csv_loaded = 1\n",
      "Collecting information from Twitter for search term \"Overwatch\".\n",
      "q=Overwatch\n",
      "3\n",
      "2\n",
      "8\n",
      "0\n",
      "339\n",
      "46\n",
      "6 new posts collected and added to game_titles_twitter.csv\n"
     ]
    }
   ],
   "source": [
    "twitter_search(\"Overwatch\")"
   ]
  },
  {
   "cell_type": "code",
   "execution_count": 6,
   "metadata": {},
   "outputs": [],
   "source": [
    "results = api.GetSearch(raw_query=\"q=twitter%20&result_type=recent&since=2014-07-19&count=100\")"
   ]
  },
  {
   "cell_type": "code",
   "execution_count": 7,
   "metadata": {},
   "outputs": [
    {
     "name": "stdout",
     "output_type": "stream",
     "text": [
      "{\"created_at\": \"Sun Mar 31 00:16:58 +0000 2019\", \"hashtags\": [], \"id\": 1112146735130951680, \"id_str\": \"1112146735130951680\", \"lang\": \"en\", \"media\": [{\"display_url\": \"pic.twitter.com/pRqwXrGxlI\", \"expanded_url\": \"https://twitter.com/SpursOfficial/status/1112049702206406661/video/1\", \"id\": 1112049576624693250, \"media_url\": \"http://pbs.twimg.com/media/D27MHrvXQAAEijx.jpg\", \"media_url_https\": \"https://pbs.twimg.com/media/D27MHrvXQAAEijx.jpg\", \"sizes\": {\"large\": {\"h\": 1152, \"resize\": \"fit\", \"w\": 2048}, \"medium\": {\"h\": 675, \"resize\": \"fit\", \"w\": 1200}, \"small\": {\"h\": 383, \"resize\": \"fit\", \"w\": 680}, \"thumb\": {\"h\": 150, \"resize\": \"crop\", \"w\": 150}}, \"type\": \"video\", \"url\": \"https://t.co/pRqwXrGxlI\", \"video_info\": {\"aspect_ratio\": [16, 9], \"duration_millis\": 44840, \"variants\": [{\"bitrate\": 832000, \"content_type\": \"video/mp4\", \"url\": \"https://video.twimg.com/amplify_video/1112049576624693250/vid/640x360/xqLCfXl0GJk2Z7nR.mp4?tag=11\"}, {\"bitrate\": 2176000, \"content_type\": \"video/mp4\", \"url\": \"https://video.twimg.com/amplify_video/1112049576624693250/vid/1280x720/wiOw606xU28zL6P7.mp4?tag=11\"}, {\"content_type\": \"application/x-mpegURL\", \"url\": \"https://video.twimg.com/amplify_video/1112049576624693250/pl/XSuchdsmNJrpsVcm.m3u8?tag=11\"}, {\"bitrate\": 288000, \"content_type\": \"video/mp4\", \"url\": \"https://video.twimg.com/amplify_video/1112049576624693250/vid/320x180/9WqnAPLXFoaEYTBX.mp4?tag=11\"}]}}], \"retweet_count\": 207, \"retweeted_status\": {\"created_at\": \"Sat Mar 30 19:52:40 +0000 2019\", \"favorite_count\": 1490, \"hashtags\": [], \"id\": 1112080221761622016, \"id_str\": \"1112080221761622016\", \"lang\": \"en\", \"media\": [{\"display_url\": \"pic.twitter.com/pRqwXrGxlI\", \"expanded_url\": \"https://twitter.com/SpursOfficial/status/1112049702206406661/video/1\", \"id\": 1112049576624693250, \"media_url\": \"http://pbs.twimg.com/media/D27MHrvXQAAEijx.jpg\", \"media_url_https\": \"https://pbs.twimg.com/media/D27MHrvXQAAEijx.jpg\", \"sizes\": {\"large\": {\"h\": 1152, \"resize\": \"fit\", \"w\": 2048}, \"medium\": {\"h\": 675, \"resize\": \"fit\", \"w\": 1200}, \"small\": {\"h\": 383, \"resize\": \"fit\", \"w\": 680}, \"thumb\": {\"h\": 150, \"resize\": \"crop\", \"w\": 150}}, \"type\": \"video\", \"url\": \"https://t.co/pRqwXrGxlI\", \"video_info\": {\"aspect_ratio\": [16, 9], \"duration_millis\": 44840, \"variants\": [{\"bitrate\": 832000, \"content_type\": \"video/mp4\", \"url\": \"https://video.twimg.com/amplify_video/1112049576624693250/vid/640x360/xqLCfXl0GJk2Z7nR.mp4?tag=11\"}, {\"bitrate\": 2176000, \"content_type\": \"video/mp4\", \"url\": \"https://video.twimg.com/amplify_video/1112049576624693250/vid/1280x720/wiOw606xU28zL6P7.mp4?tag=11\"}, {\"content_type\": \"application/x-mpegURL\", \"url\": \"https://video.twimg.com/amplify_video/1112049576624693250/pl/XSuchdsmNJrpsVcm.m3u8?tag=11\"}, {\"bitrate\": 288000, \"content_type\": \"video/mp4\", \"url\": \"https://video.twimg.com/amplify_video/1112049576624693250/vid/320x180/9WqnAPLXFoaEYTBX.mp4?tag=11\"}]}}], \"retweet_count\": 207, \"source\": \"<a href=\\\"https://www.spredfast.com/\\\" rel=\\\"nofollow\\\">Spredfast app</a>\", \"text\": \"Robbie Keane's still got it. And the celebration \\ud83d\\udc4f\\n\\n(via @SpursOfficial) \\n\\nhttps://t.co/pRqwXrGxlI\", \"urls\": [], \"user\": {\"created_at\": \"Sat Dec 13 01:33:04 +0000 2008\", \"description\": \"All things football. All the time. \\n\\nWatch ESPN FC exclusively on ESPN+.\", \"favourites_count\": 27, \"followers_count\": 1789733, \"friends_count\": 521, \"geo_enabled\": true, \"id\": 18091004, \"id_str\": \"18091004\", \"lang\": \"en\", \"listed_count\": 10579, \"name\": \"ESPN FC\", \"profile_background_color\": \"381020\", \"profile_background_image_url\": \"http://abs.twimg.com/images/themes/theme1/bg.png\", \"profile_background_image_url_https\": \"https://abs.twimg.com/images/themes/theme1/bg.png\", \"profile_background_tile\": true, \"profile_banner_url\": \"https://pbs.twimg.com/profile_banners/18091004/1537888142\", \"profile_image_url\": \"http://pbs.twimg.com/profile_images/993576884498849792/zH7kViGI_normal.jpg\", \"profile_image_url_https\": \"https://pbs.twimg.com/profile_images/993576884498849792/zH7kViGI_normal.jpg\", \"profile_link_color\": \"4A913C\", \"profile_sidebar_border_color\": \"D1CA8E\", \"profile_sidebar_fill_color\": \"9DB381\", \"profile_text_color\": \"39213B\", \"profile_use_background_image\": true, \"screen_name\": \"ESPNFC\", \"statuses_count\": 130868, \"url\": \"http://t.co/eusmK3VSeU\", \"verified\": true}, \"user_mentions\": [{\"id\": 121402638, \"id_str\": \"121402638\", \"name\": \"Tottenham Hotspur\", \"screen_name\": \"SpursOfficial\"}]}, \"source\": \"<a href=\\\"http://twitter.com/download/android\\\" rel=\\\"nofollow\\\">Twitter for Android</a>\", \"text\": \"RT @ESPNFC: Robbie Keane's still got it. And the celebration \\ud83d\\udc4f\\n\\n(via @SpursOfficial) \\n\\nhttps://t.co/pRqwXrGxlI\", \"urls\": [], \"user\": {\"created_at\": \"Wed Dec 09 12:55:44 +0000 2009\", \"description\": \"My job is to put sports on tv and my passion is to complain about it into the void of twitter- very much pro Erik Lamela\", \"favourites_count\": 2447, \"followers_count\": 230, \"friends_count\": 608, \"geo_enabled\": true, \"id\": 95640069, \"id_str\": \"95640069\", \"lang\": \"en\", \"location\": \"Dublin City, Ireland\", \"name\": \"Se\\u00e1n Gormley\", \"profile_background_color\": \"1A1B1F\", \"profile_background_image_url\": \"http://abs.twimg.com/images/themes/theme9/bg.gif\", \"profile_background_image_url_https\": \"https://abs.twimg.com/images/themes/theme9/bg.gif\", \"profile_banner_url\": \"https://pbs.twimg.com/profile_banners/95640069/1395716114\", \"profile_image_url\": \"http://pbs.twimg.com/profile_images/957355952797339648/iZahjO6Q_normal.jpg\", \"profile_image_url_https\": \"https://pbs.twimg.com/profile_images/957355952797339648/iZahjO6Q_normal.jpg\", \"profile_link_color\": \"2FC2EF\", \"profile_sidebar_border_color\": \"181A1E\", \"profile_sidebar_fill_color\": \"252429\", \"profile_text_color\": \"666666\", \"profile_use_background_image\": true, \"screen_name\": \"Seananigen\", \"statuses_count\": 3846}, \"user_mentions\": [{\"id\": 18091004, \"id_str\": \"18091004\", \"name\": \"ESPN FC\", \"screen_name\": \"ESPNFC\"}, {\"id\": 121402638, \"id_str\": \"121402638\", \"name\": \"Tottenham Hotspur\", \"screen_name\": \"SpursOfficial\"}]}\n"
     ]
    }
   ],
   "source": [
    "result = results[0]\n",
    "print(result)"
   ]
  },
  {
   "cell_type": "code",
   "execution_count": 8,
   "metadata": {},
   "outputs": [
    {
     "data": {
      "text/plain": [
       "EndpointRateLimit(limit=15, remaining=15, reset=0)"
      ]
     },
     "execution_count": 8,
     "metadata": {},
     "output_type": "execute_result"
    }
   ],
   "source": [
    "ratelim = twitter.ratelimit.RateLimit()\n",
    "ratelim.get_limit(\"https://api.twitter.com/1.1/application/rate_limit_status.json\")"
   ]
  },
  {
   "cell_type": "code",
   "execution_count": 9,
   "metadata": {},
   "outputs": [],
   "source": [
    "import unittest\n",
    "import os\n",
    "\n",
    "class TestTwitterMethods(unittest.TestCase):\n",
    "\n",
    "    def test_bad_input(self):\n",
    "        self.assertRaises(AttributeError, twitter_search, 123)\n",
    "        \n",
    "    def test_good_input(self):\n",
    "        twitter_search(\"Overwatch\")\n",
    "        self.assertTrue(os.path.isfile('./game_titles_twitter.csv'))\n",
    " \n"
   ]
  },
  {
   "cell_type": "code",
   "execution_count": 10,
   "metadata": {},
   "outputs": [
    {
     "name": "stderr",
     "output_type": "stream",
     "text": [
      "."
     ]
    },
    {
     "name": "stdout",
     "output_type": "stream",
     "text": [
      "remaining = 15\n",
      "csv = game_titles_twitter.csv\n",
      "csv_loaded = 1\n",
      "Collecting information from Twitter for search term \"123\".\n",
      "remaining = 15\n",
      "csv = game_titles_twitter.csv\n",
      "csv_loaded = 1\n",
      "Collecting information from Twitter for search term \"Overwatch\".\n",
      "q=Overwatch\n",
      "3\n",
      "8\n",
      "339\n"
     ]
    },
    {
     "name": "stderr",
     "output_type": "stream",
     "text": [
      "."
     ]
    },
    {
     "name": "stdout",
     "output_type": "stream",
     "text": [
      "46\n",
      "4 new posts collected and added to game_titles_twitter.csv\n"
     ]
    },
    {
     "name": "stderr",
     "output_type": "stream",
     "text": [
      "\n",
      "----------------------------------------------------------------------\n",
      "Ran 2 tests in 0.577s\n",
      "\n",
      "OK\n"
     ]
    }
   ],
   "source": [
    "if __name__ == '__main__':\n",
    "    unittest.main(argv=['first-arg-is-ignored'], exit=False)"
   ]
  }
 ],
 "metadata": {
  "kernelspec": {
   "display_name": "Python 3",
   "language": "python",
   "name": "python3"
  },
  "language_info": {
   "codemirror_mode": {
    "name": "ipython",
    "version": 3
   },
   "file_extension": ".py",
   "mimetype": "text/x-python",
   "name": "python",
   "nbconvert_exporter": "python",
   "pygments_lexer": "ipython3",
   "version": "3.7.1"
  }
 },
 "nbformat": 4,
 "nbformat_minor": 2
}
